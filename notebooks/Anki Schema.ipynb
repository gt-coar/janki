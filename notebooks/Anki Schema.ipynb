{
 "cells": [
  {
   "cell_type": "markdown",
   "id": "offensive-county",
   "metadata": {},
   "source": [
    "# Deriving a Modern, Pythonic API for Anki files\n",
    "\n",
    "Anki's native file format describe a _Collection_ of _Decks_ of _Cards_ (made of notes). On disk, an `.apkg` is a zip archive containing: \n",
    "- media resources \n",
    "- a `sqlite3` database\n",
    "\n",
    "While written in python, `anki` carries too many dependencies to be used effectively by downstreams."
   ]
  },
  {
   "cell_type": "code",
   "execution_count": null,
   "id": "medium-package",
   "metadata": {},
   "outputs": [],
   "source": [
    "from pathlib import Path\n",
    "import sqlalchemy as SA\n",
    "import alchemyjsonschema as AJ\n",
    "import zipfile\n",
    "import tempfile\n",
    "import shutil\n",
    "from collections import defaultdict\n",
    "import IPython\n",
    "import isort\n",
    "import black\n",
    "import libcst\n",
    "import re"
   ]
  },
  {
   "cell_type": "markdown",
   "id": "cathedral-pencil",
   "metadata": {},
   "source": [
    "## Goal\n",
    "\n",
    "Our goal is a ready-to-package python module with\n",
    "- well-typed classes\n",
    "- JSON serialization\n",
    "- documentation\n",
    "- tests\n",
    "- async-compatible"
   ]
  },
  {
   "cell_type": "code",
   "execution_count": null,
   "id": "waiting-investing",
   "metadata": {},
   "outputs": [],
   "source": [
    "MOD = Path(\"_anki_schema\")\n",
    "VERSION = \"2021.03.0\"\n",
    "shutil.rmtree(MOD, ignore_errors=True)\n",
    "MOD.mkdir()\n",
    "(MOD / \"__init__.py\").write_text(f'''\n",
    "\"\"\"a modern, pythonic API for Anki files\n",
    "\"\"\"\n",
    "__version__ = \"{VERSION}\"\n",
    "''')"
   ]
  },
  {
   "cell_type": "markdown",
   "id": "exempt-depth",
   "metadata": {},
   "source": [
    "We'll eventually want to look at a bunch of `.apkg` files."
   ]
  },
  {
   "cell_type": "code",
   "execution_count": null,
   "id": "lightweight-detection",
   "metadata": {},
   "outputs": [],
   "source": [
    "APKG = [*Path(\"vendor/ankitects/anki\").rglob(\"*.apkg\")]\n",
    "print(APKG)"
   ]
  },
  {
   "cell_type": "markdown",
   "id": "tamil-pledge",
   "metadata": {},
   "source": [
    "But first, let's just look at one."
   ]
  },
  {
   "cell_type": "code",
   "execution_count": null,
   "id": "realistic-suite",
   "metadata": {},
   "outputs": [],
   "source": [
    "apkg = zipfile.ZipFile(APKG[0])\n",
    "apkg.infolist()"
   ]
  },
  {
   "cell_type": "markdown",
   "id": "hindu-seating",
   "metadata": {},
   "source": [
    "First, we can use [alchemyjsonschema](https://pypi.org/project/alchemyjsonschema) to derive [SQLAlchemy 1.3](https://docs.sqlalchemy.org/en/13) classes."
   ]
  },
  {
   "cell_type": "code",
   "execution_count": null,
   "id": "enormous-invite",
   "metadata": {},
   "outputs": [],
   "source": [
    "with tempfile.TemporaryDirectory() as td:\n",
    "    tdp = Path(td)\n",
    "    apkg.extractall(tdp)\n",
    "    conn_str = f\"\"\"sqlite:///{tdp / \"collection.anki2\"}\"\"\"\n",
    "    raw_sa_py = !sqlacodegen {conn_str}"
   ]
  },
  {
   "cell_type": "markdown",
   "id": "suitable-campus",
   "metadata": {},
   "source": [
    "Helpfully, the nice folks at [AnkiDroid](https://github.com/ankidroid/Anki-Android) have annotated the database schema."
   ]
  },
  {
   "cell_type": "code",
   "execution_count": null,
   "id": "legendary-italian",
   "metadata": {},
   "outputs": [],
   "source": [
    "annotated_db_schema = Path(\"vendor/ankidroid/Anki-Android.wiki/Database-Structure.md\").read_text().split(\"```sql\")[1].split(\"```\")[0]\n",
    "tables = dict(re.findall(r\"\"\"CREATE TABLE (.*?) \\((.*?)\\);\"\"\", annotated_db_schema, flags=re.M | re.S))\n",
    "fields = defaultdict(lambda: defaultdict(list))\n",
    "for table, text in tables.items():\n",
    "    field = None\n",
    "    for line in text.splitlines():\n",
    "        match = re.match(r\"^\\s*([^\\-\\s]*)\", line)\n",
    "        if match and match.groups() and match.groups()[0]:\n",
    "            field = match.groups()[0]\n",
    "        elif re.match(r'\\s+-- ', line) is not None:\n",
    "            fields[table][field] += [re.sub(\"^\\s+-- \", \"\", line)]\n",
    "display(IPython.display.JSON(fields))"
   ]
  },
  {
   "cell_type": "markdown",
   "id": "prostate-impossible",
   "metadata": {},
   "source": [
    "From the raw extracted python, we'll create our base model."
   ]
  },
  {
   "cell_type": "code",
   "execution_count": null,
   "id": "obvious-poster",
   "metadata": {},
   "outputs": [],
   "source": [
    "annotated_sa_py = []\n",
    "clazz = None\n",
    "nl = \"\\n\"\n",
    "for old_line in raw_sa_py:\n",
    "    new_line = old_line\n",
    "    if \"__tablename__\" in old_line:\n",
    "        table = re.findall(r\"__tablename__ = '(.*)'\", old_line)[0].lower()\n",
    "        assert table in fields.keys()\n",
    "        print(table)\n",
    "    elif \"= Column\" in old_line:\n",
    "        field = old_line.split(\" = \")[0].strip()\n",
    "        print(\"...\", field)\n",
    "        new_line = old_line.replace(\")\", f\"\"\", doc='''{nl.join(fields[table][field]).strip()}''')\"\"\")\n",
    "    annotated_sa_py += [new_line]"
   ]
  },
  {
   "cell_type": "code",
   "execution_count": null,
   "id": "mobile-comedy",
   "metadata": {},
   "outputs": [],
   "source": [
    "BASE = MOD / \"_base.py\"\n",
    "BASE.write_text(black.format_str(\"\\n\".join(annotated_sa_py[1:]), mode=black.FileMode(line_length=88)))"
   ]
  },
  {
   "cell_type": "markdown",
   "id": "vocal-lawrence",
   "metadata": {},
   "source": [
    "Now we can get a first look at the JSON schema."
   ]
  },
  {
   "cell_type": "code",
   "execution_count": null,
   "id": "biological-coach",
   "metadata": {},
   "outputs": [],
   "source": [
    "SCHEMA = MOD / \"schema\"\n",
    "SCHEMA.mkdir(exist_ok=True)\n",
    "RAW = SCHEMA / \"raw.schema.json\"\n",
    "!PYTHONPATH=. alchemyjsonschema --walker structural _anki_schema._base > {RAW}\n",
    "IPython.display.Markdown(f\"### [The Raw Schema]({RAW.as_posix()})\")"
   ]
  },
  {
   "cell_type": "markdown",
   "id": "bridal-arthritis",
   "metadata": {},
   "source": [
    "Now we can use this to build `pydantic` models."
   ]
  },
  {
   "cell_type": "code",
   "execution_count": null,
   "id": "informal-quantum",
   "metadata": {},
   "outputs": [],
   "source": [
    "PYDANTIC = MOD / \"_pydantic.py\"\n",
    "PYDANTIC.write_text('''\"\"\"pydantic models for anki\"\"\"\n",
    "from pydantic_sqlalchemy import sqlalchemy_to_pydantic\n",
    "from . import _base\n",
    "Card = sqlalchemy_to_pydantic(_base.Card)\n",
    "Col = sqlalchemy_to_pydantic(_base.Col)\n",
    "Note = sqlalchemy_to_pydantic(_base.Note)\n",
    "Revlog = sqlalchemy_to_pydantic(_base.Revlog)\n",
    "''')"
   ]
  },
  {
   "cell_type": "markdown",
   "id": "opposed-irish",
   "metadata": {},
   "source": [
    "Now we should be able to actually import these things."
   ]
  },
  {
   "cell_type": "code",
   "execution_count": null,
   "id": "signed-turkey",
   "metadata": {},
   "outputs": [],
   "source": [
    "from _anki_schema._pydantic import Card, Col, Note, Revlog"
   ]
  },
  {
   "cell_type": "code",
   "execution_count": null,
   "id": "super-austin",
   "metadata": {},
   "outputs": [],
   "source": [
    "import pytest\n",
    "import pydantic"
   ]
  },
  {
   "cell_type": "markdown",
   "id": "amino-retention",
   "metadata": {},
   "source": [
    "and they should be suitably _pydantic_."
   ]
  },
  {
   "cell_type": "code",
   "execution_count": null,
   "id": "visible-attempt",
   "metadata": {},
   "outputs": [],
   "source": [
    "for Clazz in [Card, Col, Note, Revlog]:\n",
    "    with pytest.raises(pydantic.ValidationError):\n",
    "        print(f\"{Clazz} is pydantic\")\n",
    "        Clazz()\n",
    "        print(\"uhoh, shouldn't have gotten here\")"
   ]
  },
  {
   "cell_type": "markdown",
   "id": "instrumental-constitution",
   "metadata": {},
   "source": [
    "Next we'll build some convenience classes around them."
   ]
  },
  {
   "cell_type": "markdown",
   "id": "modern-participant",
   "metadata": {},
   "source": [
    "# ... a miracle happens"
   ]
  },
  {
   "cell_type": "markdown",
   "id": "exact-olympus",
   "metadata": {},
   "source": [
    "Finally, we should have a `Collection` which we can conveniently work with.\n",
    "\n",
    "```python\n",
    "foo = Collection(\"foo.anki2\") \n",
    "with foo.open() as foo:\n",
    "    card = foo.models.MultipleChoice(\n",
    "        \"the good\",\n",
    "        \"the bad\",\n",
    "        \"the ugly\n",
    "    )\n",
    "```"
   ]
  }
 ],
 "metadata": {
  "kernelspec": {
   "display_name": "Python 3",
   "language": "python",
   "name": "python3"
  },
  "language_info": {
   "codemirror_mode": {
    "name": "ipython",
    "version": 3
   },
   "file_extension": ".py",
   "mimetype": "text/x-python",
   "name": "python",
   "nbconvert_exporter": "python",
   "pygments_lexer": "ipython3",
   "version": "3.8.8"
  }
 },
 "nbformat": 4,
 "nbformat_minor": 5
}
